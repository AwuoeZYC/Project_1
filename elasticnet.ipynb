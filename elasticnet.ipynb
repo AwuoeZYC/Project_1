{
 "cells": [
  {
   "cell_type": "code",
   "execution_count": null,
   "metadata": {},
   "outputs": [],
   "source": [
    "gs_l = GridSearchCV(\n",
    "    make_pipeline(\n",
    "        preprocessor,\n",
    "        LinearRegression()\n",
    "    ),\n",
    "    param_grid = {},\n",
    "    cv=KFold(5, shuffle=True, random_state=random_seed),\n",
    "    scoring=\"neg_mean_squared_error\"\n",
    ").fit(X_train_DX, y_train_DX)\n",
    "\n",
    "print('CV MSE for baseline linear model', round(gs_l.best_score_ * -1,4))"
   ]
  },
  {
   "cell_type": "code",
   "execution_count": null,
   "metadata": {},
   "outputs": [],
   "source": [
    "from sklearn.linear_model import ElasticNet\n",
    "\n",
    "# 定义 ColumnTransformer\n",
    "preprocessor = ColumnTransformer(\n",
    "    transformers=[\n",
    "        ('cat', OneHotEncoder(), [0]),  # 对分类特征进行 OneHot 编码\n",
    "        ('num', StandardScaler(), [1,2,3,4,5,6,7,8,9])  # 对数值特征进行标准化\n",
    "    ],\n",
    "    remainder='passthrough'  # 保留其他未指定的特征\n",
    ")\n",
    "\n",
    "# Grid of tuning parameters\n",
    "alphas = np.linspace(0.001, 10, num=100)\n",
    "l1r = [0.01, .1, .5, .7, .9, .95, 1]\n",
    "\n",
    "# CV strategy\n",
    "cv = KFold(5, shuffle=True, random_state=random_seed)\n",
    "\n",
    "# Pipeline\n",
    "m = make_pipeline(\n",
    "        preprocessor,\n",
    "        ElasticNet()\n",
    ")\n",
    "\n",
    "# Grid search\n",
    "gs_enet = GridSearchCV(m,\n",
    "                        param_grid={'elasticnet__alpha': alphas, 'elasticnet__l1_ratio': l1r},\n",
    "                        cv = cv,\n",
    "                        scoring=\"neg_mean_squared_error\")\n",
    "gs_enet.fit(X_train_DX, y_train_DX)\n",
    "\n",
    "gs_enet.best_params_"
   ]
  },
  {
   "cell_type": "code",
   "execution_count": null,
   "metadata": {},
   "outputs": [],
   "source": [
    "print('CV MSE for elasticnet model', round(-gs_enet.best_score_,4))\n",
    "print('CV MSE for ridge model',round(-gs_ridge.best_score_,4))\n",
    "print('CV MSE for lasso model',round(-gs_lasso.best_score_,4))"
   ]
  },
  {
   "cell_type": "code",
   "execution_count": null,
   "metadata": {},
   "outputs": [],
   "source": [
    "model_fit(gs_enet.best_estimator_, X_test_DX, y_test_DX, plot=True)"
   ]
  }
 ],
 "metadata": {
  "language_info": {
   "name": "python"
  }
 },
 "nbformat": 4,
 "nbformat_minor": 2
}
