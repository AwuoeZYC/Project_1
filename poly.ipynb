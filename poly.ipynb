{
 "cells": [
  {
   "cell_type": "code",
   "execution_count": null,
   "metadata": {},
   "outputs": [],
   "source": [
    "#Poly(only interaction)\n",
    "cat_pre = OneHotEncoder(drop=np.array(['Female']))\n",
    "\n",
    "pf = PolynomialFeatures(interaction_only=True,include_bias=False)\n",
    "\n",
    "pipe_2 = Pipeline([\n",
    "    (\"pre_processing\", ColumnTransformer([\n",
    "        (\"cat_pre\", cat_pre, [0]),\n",
    "        (\"num_pre\", 'passthrough', [1,2,3,4,5,6,7,8,9])])),\n",
    "    (\"interact\", pf),\n",
    "    (\"model\", LinearRegression())\n",
    "])"
   ]
  },
  {
   "cell_type": "code",
   "execution_count": null,
   "metadata": {},
   "outputs": [],
   "source": [
    "# Fit the model\n",
    "pipe_2.fit(X_train_sex, y_train_sex)\n",
    "\n",
    "train_MSE, train_RMSE, train_R2 = model_fit(pipe_2, X_train_sex, y_train_sex, plot=True)\n",
    "print(f\"Training Data - MSE: {train_MSE}, RMSE: {train_RMSE}, R²: {train_R2}\")\n",
    "\n",
    "test_MSE, test_RMSE, test_R2 = model_fit(pipe_2, X_test_sex, y_test_sex, plot=True)\n",
    "print(f\"Test Data - MSE: {test_MSE}, RMSE: {test_RMSE}, R²: {test_R2}\")"
   ]
  },
  {
   "cell_type": "code",
   "execution_count": null,
   "metadata": {},
   "outputs": [],
   "source": [
    "#Poly\n",
    "cat_pre = OneHotEncoder(drop=np.array(['Female']))\n",
    "\n",
    "pf = PolynomialFeatures(include_bias=False)\n",
    "\n",
    "poly_pipe = Pipeline([\n",
    "    (\"pre_processing\", ColumnTransformer([\n",
    "        (\"cat_pre\", cat_pre, [0]), \n",
    "        (\"poly\", pf, [1,2,3,4,5,6,7,8,9])])),\n",
    "    (\"model\", LinearRegression())])\n",
    "\n",
    "parameters = {\n",
    "    'pre_processing__poly__degree': np.arange(1,10,1)\n",
    "}\n",
    "\n",
    "kf = KFold(n_splits = 5, shuffle = True, random_state=random_seed)\n",
    "\n",
    "grid_search = GridSearchCV(poly_pipe, parameters, cv = kf, scoring = 'neg_mean_squared_error', return_train_score=True).fit(X_train_sex, y_train_sex)"
   ]
  },
  {
   "cell_type": "code",
   "execution_count": null,
   "metadata": {},
   "outputs": [],
   "source": [
    "print(\"best index: \", grid_search.best_index_)\n",
    "print(\"best param: \", grid_search.best_params_)\n",
    "print(\"best score: \", grid_search.best_score_)"
   ]
  },
  {
   "cell_type": "code",
   "execution_count": null,
   "metadata": {},
   "outputs": [],
   "source": [
    "train_MSE, train_RMSE, train_R2 = model_fit(grid_search, X_train_sex, y_train_sex, plot=True)\n",
    "print(f\"Training Data - MSE: {test_MSE}, RMSE: {test_RMSE}, R²: {test_R2}\")\n",
    "\n",
    "test_MSE, test_RMSE, test_R2 = model_fit(grid_search, X_test_sex, y_test_sex, plot=True)\n",
    "print(f\"Test Data - MSE: {test_MSE}, RMSE: {test_RMSE}, R²: {test_R2}\")"
   ]
  },
  {
   "cell_type": "code",
   "execution_count": null,
   "metadata": {},
   "outputs": [],
   "source": [
    "degree = np.arange(1,10,1)\n",
    "fig, ax = plt.subplots(figsize=(9,7), ncols=1, nrows=1)\n",
    "plt.scatter(degree,-grid_search.cv_results_['mean_train_score'], color='k')\n",
    "plt.plot(degree,-grid_search.cv_results_['mean_train_score'], color='k', label='Mean Train MSE')\n",
    "plt.scatter(degree,-grid_search.cv_results_['mean_test_score'], color='r')\n",
    "plt.plot(degree,-grid_search.cv_results_['mean_test_score'], color='r', label='CV MSE')\n",
    "ax.legend()\n",
    "ax.set_xlabel('degree')\n",
    "ax.set_ylabel('MSE')\n",
    "plt.show()"
   ]
  },
  {
   "cell_type": "code",
   "execution_count": null,
   "metadata": {},
   "outputs": [],
   "source": [
    "#Poly(only interaction)\n",
    "cat_pre = OneHotEncoder(categories=[['AD', 'CN', 'EMCI', 'LMCI']],drop=np.array(['AD']))\n",
    "\n",
    "pf = PolynomialFeatures(interaction_only=True,include_bias=False)\n",
    "\n",
    "poly_pipe_DX = Pipeline([\n",
    "    (\"pre_processing\", ColumnTransformer([\n",
    "        (\"cat_pre\", cat_pre, [0]),\n",
    "        (\"num_pre\", 'passthrough', [1,2,3,4,5,6,7,8,9])])),\n",
    "    (\"interact\", pf),\n",
    "    (\"model\", LinearRegression())\n",
    "])"
   ]
  },
  {
   "cell_type": "code",
   "execution_count": null,
   "metadata": {},
   "outputs": [],
   "source": [
    "# Fit the model\n",
    "poly_pipe_DX.fit(X_train_DX, y_train_DX)\n",
    "\n",
    "train_MSE, train_RMSE, train_R2 = model_fit(poly_pipe_DX, X_train_DX, y_train_DX, plot=True)\n",
    "print(f\"Training Data - MSE: {train_MSE}, RMSE: {train_RMSE}, R²: {train_R2}\")\n",
    "\n",
    "test_MSE, test_RMSE, test_R2 = model_fit(poly_pipe_DX, X_test_DX, y_test_DX, plot=True)\n",
    "print(f\"Test Data - MSE: {test_MSE}, RMSE: {test_RMSE}, R²: {test_R2}\")"
   ]
  },
  {
   "cell_type": "code",
   "execution_count": null,
   "metadata": {},
   "outputs": [],
   "source": [
    "yhat_poly_DX = poly_pipe_DX.predict(X_train_DX)\n",
    "\n",
    "# Part b: Plot fitted values\n",
    "ax = sns.scatterplot(x = X_train_DX[\"ADAS13.bl\"], y = y_train_DX, hue = X_train_DX[\"DX.bl\"])\n",
    "sns.lineplot(x = X_train_DX[\"ADAS13.bl\"], y = yhat_poly_DX, hue = X_train_DX[\"DX.bl\"], ax=ax, legend=False)\n",
    "ax.set(ylabel='ADAS13.m24')\n",
    "plt.show()\n"
   ]
  }
 ],
 "metadata": {
  "language_info": {
   "name": "python"
  }
 },
 "nbformat": 4,
 "nbformat_minor": 2
}
